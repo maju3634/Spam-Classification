{
 "cells": [
  {
   "cell_type": "markdown",
   "metadata": {
    "_cell_guid": "749655f3-9025-83be-687c-25a0d2543d20"
   },
   "source": [
    "# Spam Comments Classification\n",
    "\n",
    "In this notebook, I want to classify the comments into 2 categories. The goal is to identify whether a headline is belong to 1 of 2 classes:\n",
    "- Not-Spam or 0\n",
    "- Spam or 1\n",
    "\n",
    "To achieve the goal I will use Multinomial Naïve Bayes and Linear Support Vector Machine.  Naïve Bayes is an algorithm based on applying Bayes theorem with a strong (naive) assumption. They’re probabilistic classifier, therefore will calculate the probability of each category using Bayes theorem then the category with the highest probability will be the output. Linear Support Vector Machine is a linear model for classification and regression problems. The idea of SVM is really simple: creates a line or a hyperplane which separates the data into several categories.\n",
    "I will use a conventional method here like Countvectorizer to convert document to vector. After that I will use Tfidftransformer to compute tf-idf or “Terms frequency times inverse documents frequency” \n",
    "Then the workflow to classificate our document is:\n",
    "\n",
    "1. **Data Import**:\n",
    "\n",
    "Data is the lifeblood of predictive analysis. We should know which data that we’ll use, where & how to gather them, then how to make it useful to solve our problem.\n",
    "\n",
    "2. **Data Cleaning**:\n",
    "\n",
    "Then we’ll use several mechanism like lowercasing the document, remove short form, and finally remove the punctuation and symbols.\n",
    "\n",
    "3. **Data Pre-Processing**:\n",
    "\n",
    "After that we using countvectorizer to convert our document into a vector then using tf-idf transformer to compute tf-idf for every document.\n",
    "\n",
    "4. **Data Modelling**:\n",
    "\n",
    "Finally we using 2 model to classificate our documents ( Multinomial Naïve Bayes and Linear-SVM).\n",
    "\n",
    "5. **Result Discussion**\n",
    "\n",
    "Discuss the final result (You will see in the end of the notebook)\n",
    "\n",
    "**=========================================================================================================================**\n",
    "\n",
    "**=========================================================================================================================**"
   ]
  },
  {
   "cell_type": "markdown",
   "metadata": {},
   "source": [
    "So here is the code:\n",
    "1. **Import the library**\n",
    "\n",
    "Importing the library that we need to process our document and build our model"
   ]
  },
  {
   "cell_type": "code",
   "execution_count": 1,
   "metadata": {
    "_cell_guid": "353b19a1-bde1-3252-ce67-5f3a4f52c845"
   },
   "outputs": [],
   "source": [
    "import pandas as pd\n",
    "import nltk\n",
    "import re\n",
    "from sklearn.preprocessing import LabelEncoder\n",
    "from sklearn.feature_extraction.text import CountVectorizer\n",
    "from sklearn.feature_extraction.text import TfidfTransformer\n",
    "from sklearn.naive_bayes import MultinomialNB\n",
    "from sklearn.pipeline import Pipeline\n",
    "from sklearn import metrics\n",
    "from sklearn.linear_model import SGDClassifier\n",
    "from sklearn.metrics import confusion_matrix\n",
    "import seaborn as sns\n",
    "import matplotlib.pyplot as plt"
   ]
  },
  {
   "cell_type": "markdown",
   "metadata": {
    "_cell_guid": "757d525b-2e03-c62a-d3e2-98d199d11883"
   },
   "source": [
    "2. **Read the document**\n",
    "\n",
    "Read the document using pandas library then convert it into dataframe"
   ]
  },
  {
   "cell_type": "code",
   "execution_count": 2,
   "metadata": {
    "_cell_guid": "ac410fcd-856e-d895-8ab4-52acc53f062e"
   },
   "outputs": [],
   "source": [
    "comments =  pd.read_excel(\"Comment Spam.xls\")"
   ]
  },
  {
   "cell_type": "code",
   "execution_count": 3,
   "metadata": {
    "_cell_guid": "6d8bacc3-5c93-72ae-ed26-39921dc44961"
   },
   "outputs": [
    {
     "data": {
      "text/html": [
       "<div>\n",
       "<style scoped>\n",
       "    .dataframe tbody tr th:only-of-type {\n",
       "        vertical-align: middle;\n",
       "    }\n",
       "\n",
       "    .dataframe tbody tr th {\n",
       "        vertical-align: top;\n",
       "    }\n",
       "\n",
       "    .dataframe thead th {\n",
       "        text-align: right;\n",
       "    }\n",
       "</style>\n",
       "<table border=\"1\" class=\"dataframe\">\n",
       "  <thead>\n",
       "    <tr style=\"text-align: right;\">\n",
       "      <th></th>\n",
       "      <th>No</th>\n",
       "      <th>Comment</th>\n",
       "      <th>Class</th>\n",
       "    </tr>\n",
       "  </thead>\n",
       "  <tbody>\n",
       "    <tr>\n",
       "      <th>0</th>\n",
       "      <td>1</td>\n",
       "      <td>this song is racist</td>\n",
       "      <td>0</td>\n",
       "    </tr>\n",
       "    <tr>\n",
       "      <th>1</th>\n",
       "      <td>2</td>\n",
       "      <td>and how many subscribers compared to her over ...</td>\n",
       "      <td>1</td>\n",
       "    </tr>\n",
       "    <tr>\n",
       "      <th>2</th>\n",
       "      <td>3</td>\n",
       "      <td>HI! CHECK OUT OUR AWESOME COVERS! AND SAY WHAT...</td>\n",
       "      <td>1</td>\n",
       "    </tr>\n",
       "    <tr>\n",
       "      <th>3</th>\n",
       "      <td>4</td>\n",
       "      <td>well done shakira</td>\n",
       "      <td>0</td>\n",
       "    </tr>\n",
       "    <tr>\n",
       "      <th>4</th>\n",
       "      <td>5</td>\n",
       "      <td>:D subscribe to me for daily vines</td>\n",
       "      <td>1</td>\n",
       "    </tr>\n",
       "  </tbody>\n",
       "</table>\n",
       "</div>"
      ],
      "text/plain": [
       "   No                                            Comment  Class\n",
       "0   1                                this song is racist      0\n",
       "1   2  and how many subscribers compared to her over ...      1\n",
       "2   3  HI! CHECK OUT OUR AWESOME COVERS! AND SAY WHAT...      1\n",
       "3   4                                  well done shakira      0\n",
       "4   5                 :D subscribe to me for daily vines      1"
      ]
     },
     "execution_count": 3,
     "metadata": {},
     "output_type": "execute_result"
    }
   ],
   "source": [
    "comments.head()"
   ]
  },
  {
   "cell_type": "markdown",
   "metadata": {},
   "source": [
    "3. **Create a dictionary**\n",
    "\n",
    "Creating a dictionary that convert abbreviation into full form."
   ]
  },
  {
   "cell_type": "code",
   "execution_count": 4,
   "metadata": {},
   "outputs": [],
   "source": [
    "short_forms_dict = {\"ain't\": \"is not\", \"aren't\": \"are not\",\"can't\": \"cannot\", \n",
    "                    \"cause\": \"because\", \"could've\": \"could have\", \"couldn't\": \"could not\", \n",
    "                    \"didn't\": \"did not\",  \"doesn't\": \"does not\", \"don't\": \"do not\", \"hadn't\": \"had not\", \n",
    "                    \"hasn't\": \"has not\", \"haven't\": \"have not\", \"he'd\": \"he would\",\"he'll\": \"he will\", \n",
    "                    \"he's\": \"he is\", \"how'd\": \"how did\", \"how'd'y\": \"how do you\", \"how'll\": \"how will\", \n",
    "                    \"how's\": \"how is\",  \"I'd\": \"I would\", \"I'd've\": \"I would have\", \"I'll\": \"I will\", \n",
    "                    \"I'll've\": \"I will have\",\"I'm\": \"I am\", \"I've\": \"I have\", \"i'd\": \"i would\", \n",
    "                    \"i'd've\": \"i would have\", \"i'll\": \"i will\",  \"i'll've\": \"i will have\",\"i'm\": \"i am\", \n",
    "                    \"i've\": \"i have\", \"isn't\": \"is not\", \"it'd\": \"it would\", \"it'd've\": \"it would have\", \n",
    "                    \"it'll\": \"it will\", \"it'll've\": \"it will have\",\"it's\": \"it is\", \"let's\": \"let us\", \n",
    "                    \"ma'am\": \"madam\", \"mayn't\": \"may not\", \"might've\": \"might have\",\"mightn't\": \"might not\",\n",
    "                    \"mightn't've\": \"might not have\", \"must've\": \"must have\", \"mustn't\": \"must not\", \n",
    "                    \"mustn't've\": \"must not have\", \"needn't\": \"need not\", \"needn't've\": \"need not have\",\n",
    "                    \"o'clock\": \"of the clock\", \"oughtn't\": \"ought not\", \"oughtn't've\": \"ought not have\", \n",
    "                    \"shan't\": \"shall not\", \"sha'n't\": \"shall not\", \"shan't've\": \"shall not have\", \n",
    "                    \"she'd\": \"she would\", \"she'd've\": \"she would have\", \"she'll\": \"she will\", \n",
    "                    \"she'll've\": \"she will have\", \"she's\": \"she is\", \"should've\": \"should have\", \n",
    "                    \"shouldn't\": \"should not\", \"shouldn't've\": \"should not have\", \"so've\": \"so have\",\n",
    "                    \"so's\": \"so as\", \"this's\": \"this is\",\"that'd\": \"that would\", \"that'd've\": \"that would have\", \n",
    "                    \"that's\": \"that is\", \"there'd\": \"there would\", \"there'd've\": \"there would have\", \n",
    "                    \"there's\": \"there is\", \"here's\": \"here is\",\"they'd\": \"they would\", \n",
    "                    \"they'd've\": \"they would have\", \"they'll\": \"they will\", \"they'll've\": \"they will have\", \n",
    "                    \"they're\": \"they are\", \"they've\": \"they have\", \"to've\": \"to have\", \"wasn't\": \"was not\", \n",
    "                    \"we'd\": \"we would\", \"we'd've\": \"we would have\", \"we'll\": \"we will\", \n",
    "                    \"we'll've\": \"we will have\", \"we're\": \"we are\", \"we've\": \"we have\", \n",
    "                    \"weren't\": \"were not\", \"what'll\": \"what will\", \"what'll've\": \"what will have\", \n",
    "                    \"what're\": \"what are\",  \"what's\": \"what is\", \"what've\": \"what have\", \n",
    "                    \"when's\": \"when is\", \"when've\": \"when have\", \"where'd\": \"where did\", \n",
    "                    \"where's\": \"where is\", \"where've\": \"where have\", \"who'll\": \"who will\", \n",
    "                    \"who'll've\": \"who will have\", \"who's\": \"who is\", \"who've\": \"who have\", \"why's\": \"why is\", \n",
    "                    \"why've\": \"why have\", \"will've\": \"will have\", \"won't\": \"will not\", \"won't've\": \"will not have\", \n",
    "                    \"would've\": \"would have\", \"wouldn't\": \"would not\", \"wouldn't've\": \"would not have\", \n",
    "                    \"y'all\": \"you all\", \"y'all'd\": \"you all would\",\"y'all'd've\": \"you all would have\",\n",
    "                    \"y'all're\": \"you all are\",\"y'all've\": \"you all have\",\"you'd\": \"you would\", \n",
    "                    \"you'd've\": \"you would have\", \"you'll\": \"you will\", \"you'll've\": \"you will have\", \n",
    "                    \"you're\": \"you are\", \"you've\": \"you have\"}"
   ]
  },
  {
   "cell_type": "markdown",
   "metadata": {},
   "source": [
    "4. **Convert the Abbrevation**\n",
    "\n",
    "Converting the abbrevation into full form"
   ]
  },
  {
   "cell_type": "code",
   "execution_count": 5,
   "metadata": {},
   "outputs": [
    {
     "data": {
      "text/html": [
       "<div>\n",
       "<style scoped>\n",
       "    .dataframe tbody tr th:only-of-type {\n",
       "        vertical-align: middle;\n",
       "    }\n",
       "\n",
       "    .dataframe tbody tr th {\n",
       "        vertical-align: top;\n",
       "    }\n",
       "\n",
       "    .dataframe thead th {\n",
       "        text-align: right;\n",
       "    }\n",
       "</style>\n",
       "<table border=\"1\" class=\"dataframe\">\n",
       "  <thead>\n",
       "    <tr style=\"text-align: right;\">\n",
       "      <th></th>\n",
       "      <th>No</th>\n",
       "      <th>Comment</th>\n",
       "      <th>Class</th>\n",
       "    </tr>\n",
       "  </thead>\n",
       "  <tbody>\n",
       "    <tr>\n",
       "      <th>0</th>\n",
       "      <td>1</td>\n",
       "      <td>this song is racist</td>\n",
       "      <td>0</td>\n",
       "    </tr>\n",
       "    <tr>\n",
       "      <th>1</th>\n",
       "      <td>2</td>\n",
       "      <td>and how many subscribers compared to her over ...</td>\n",
       "      <td>1</td>\n",
       "    </tr>\n",
       "    <tr>\n",
       "      <th>2</th>\n",
       "      <td>3</td>\n",
       "      <td>HI! CHECK OUT OUR AWESOME COVERS! AND SAY WHAT...</td>\n",
       "      <td>1</td>\n",
       "    </tr>\n",
       "    <tr>\n",
       "      <th>3</th>\n",
       "      <td>4</td>\n",
       "      <td>well done shakira</td>\n",
       "      <td>0</td>\n",
       "    </tr>\n",
       "    <tr>\n",
       "      <th>4</th>\n",
       "      <td>5</td>\n",
       "      <td>:D subscribe to me for daily vines</td>\n",
       "      <td>1</td>\n",
       "    </tr>\n",
       "  </tbody>\n",
       "</table>\n",
       "</div>"
      ],
      "text/plain": [
       "   No                                            Comment  Class\n",
       "0   1                                this song is racist      0\n",
       "1   2  and how many subscribers compared to her over ...      1\n",
       "2   3  HI! CHECK OUT OUR AWESOME COVERS! AND SAY WHAT...      1\n",
       "3   4                                  well done shakira      0\n",
       "4   5                 :D subscribe to me for daily vines      1"
      ]
     },
     "execution_count": 5,
     "metadata": {},
     "output_type": "execute_result"
    }
   ],
   "source": [
    "for i in range(len(comments)):\n",
    "    text = comments.loc[i,\"Comment\"]\n",
    "    for word in short_forms_dict.keys():\n",
    "        if re.search(word,text):\n",
    "            text = re.sub(word,short_forms_dict[word],text)\n",
    "    comments.loc[i,\"Comment\"] = text\n",
    "comments.head()"
   ]
  },
  {
   "cell_type": "markdown",
   "metadata": {},
   "source": [
    "5. **Create a list of symbols and punctuation**"
   ]
  },
  {
   "cell_type": "code",
   "execution_count": 6,
   "metadata": {},
   "outputs": [],
   "source": [
    "symbols = [',', '.', '\"', ':', ')', '(', '-', '!', '?', '|',';', \"'\", '$', '&', '/', '[', ']', '>', '%', '=', \n",
    "           '#', '*', '+', '\\\\', '•',  '~', '@', '£', '·', '_', '{', '}', '©', '^', '®', '`',  '<', '→', '°', '€', \n",
    "           '™', '›',  '♥', '←', '×', '§', '″', '′', 'Â', '█', '½', 'à', '…', '“', '★', '”', '–', '●', 'â', '►', \n",
    "           '−', '¢', '²', '¬', '░', '¶', '↑', '±', '¿', '▾', '═', '¦', '║', '―', '¥', '▓', '—', '‹', '─', '▒', '：', \n",
    "           '¼', '⊕', '▼', '▪', '†', '■', '’', '▀', '¨', '▄', '♫', '☆', 'é', '¯', '♦', '¤', '▲', 'è', '¸', '¾', 'Ã', '⋅', \n",
    "           '‘', '∞', '∙', '）', '↓', '、', '│', '（', '»', '，', '♪', '╩', '╚', '³', '・', '╦', '╣', '╔', '╗', '▬', '❤', 'ï', 'Ø', \n",
    "           '¹', '≤', '‡', '√' ]"
   ]
  },
  {
   "cell_type": "markdown",
   "metadata": {},
   "source": [
    "6. **Remove the symbols and punctuation**"
   ]
  },
  {
   "cell_type": "code",
   "execution_count": 7,
   "metadata": {},
   "outputs": [
    {
     "data": {
      "text/html": [
       "<div>\n",
       "<style scoped>\n",
       "    .dataframe tbody tr th:only-of-type {\n",
       "        vertical-align: middle;\n",
       "    }\n",
       "\n",
       "    .dataframe tbody tr th {\n",
       "        vertical-align: top;\n",
       "    }\n",
       "\n",
       "    .dataframe thead th {\n",
       "        text-align: right;\n",
       "    }\n",
       "</style>\n",
       "<table border=\"1\" class=\"dataframe\">\n",
       "  <thead>\n",
       "    <tr style=\"text-align: right;\">\n",
       "      <th></th>\n",
       "      <th>No</th>\n",
       "      <th>Comment</th>\n",
       "      <th>Class</th>\n",
       "    </tr>\n",
       "  </thead>\n",
       "  <tbody>\n",
       "    <tr>\n",
       "      <th>0</th>\n",
       "      <td>1</td>\n",
       "      <td>this song is racist</td>\n",
       "      <td>0</td>\n",
       "    </tr>\n",
       "    <tr>\n",
       "      <th>1</th>\n",
       "      <td>2</td>\n",
       "      <td>and how many subscribers compared to her over ...</td>\n",
       "      <td>1</td>\n",
       "    </tr>\n",
       "    <tr>\n",
       "      <th>2</th>\n",
       "      <td>3</td>\n",
       "      <td>HI CHECK OUT OUR AWESOME COVERS AND SAY WHAT Y...</td>\n",
       "      <td>1</td>\n",
       "    </tr>\n",
       "    <tr>\n",
       "      <th>3</th>\n",
       "      <td>4</td>\n",
       "      <td>well done shakira</td>\n",
       "      <td>0</td>\n",
       "    </tr>\n",
       "    <tr>\n",
       "      <th>4</th>\n",
       "      <td>5</td>\n",
       "      <td>D subscribe to me for daily vines</td>\n",
       "      <td>1</td>\n",
       "    </tr>\n",
       "  </tbody>\n",
       "</table>\n",
       "</div>"
      ],
      "text/plain": [
       "   No                                            Comment  Class\n",
       "0   1                                this song is racist      0\n",
       "1   2  and how many subscribers compared to her over ...      1\n",
       "2   3  HI CHECK OUT OUR AWESOME COVERS AND SAY WHAT Y...      1\n",
       "3   4                                  well done shakira      0\n",
       "4   5                  D subscribe to me for daily vines      1"
      ]
     },
     "execution_count": 7,
     "metadata": {},
     "output_type": "execute_result"
    }
   ],
   "source": [
    "for i in range(len(comments)):\n",
    "    text = comments.loc[i,\"Comment\"]\n",
    "    for symbol in symbols:\n",
    "        text = text.replace(symbol,'')\n",
    "    comments.loc[i,\"Comment\"] = text\n",
    "comments.head()"
   ]
  },
  {
   "cell_type": "markdown",
   "metadata": {
    "_cell_guid": "6694d156-23a5-8fea-59a6-be7f5a4eda4b"
   },
   "source": [
    "7. **Show the number of the comments**"
   ]
  },
  {
   "cell_type": "code",
   "execution_count": 8,
   "metadata": {
    "_cell_guid": "25d82147-b462-ccf7-b4e9-fc627dacd7cd"
   },
   "outputs": [
    {
     "name": "stdout",
     "output_type": "stream",
     "text": [
      "Number of comments 1300\n"
     ]
    }
   ],
   "source": [
    "categories = comments['Class']\n",
    "titles = comments['Comment']\n",
    "N = len(titles)\n",
    "print('Number of comments',N)"
   ]
  },
  {
   "cell_type": "code",
   "execution_count": 9,
   "metadata": {
    "_cell_guid": "0783fd60-000c-9713-e1b5-dd053e12aca7"
   },
   "outputs": [
    {
     "name": "stdout",
     "output_type": "stream",
     "text": [
      "Possible categories [0, 1]\n"
     ]
    }
   ],
   "source": [
    "labels = list(set(categories))\n",
    "print('Possible categories',labels)"
   ]
  },
  {
   "cell_type": "markdown",
   "metadata": {},
   "source": [
    "8. **Show the number of the news for every class/category**"
   ]
  },
  {
   "cell_type": "code",
   "execution_count": 10,
   "metadata": {
    "_cell_guid": "87b07698-7d6b-940b-75e1-34d297705b2b"
   },
   "outputs": [
    {
     "name": "stdout",
     "output_type": "stream",
     "text": [
      "Number of  0 comments 631\n",
      "Number of  1 comments 669\n"
     ]
    }
   ],
   "source": [
    "for l in labels:\n",
    "    print('Number of ',l,'comments',len(comments[comments['Class'] == l]))"
   ]
  },
  {
   "cell_type": "code",
   "execution_count": 11,
   "metadata": {
    "_cell_guid": "f05fb551-75a3-6e6b-aae6-b5b1d6955cfb"
   },
   "outputs": [],
   "source": [
    "encoder = LabelEncoder()\n",
    "ncategories = encoder.fit_transform(categories)"
   ]
  },
  {
   "cell_type": "markdown",
   "metadata": {},
   "source": [
    "9. **Split the document into test-training part**\n",
    "\n",
    "Split the whole document into 2 parts (test parts and training parts)\n",
    "The ratio between those 2 parts is 1 : 3 or 25% : 75%\n",
    "The reason why the percentage of the test parts 25 % because the quantity of the documents is small."
   ]
  },
  {
   "cell_type": "code",
   "execution_count": 12,
   "metadata": {
    "_cell_guid": "5d718182-9ce0-7144-c573-998226174077"
   },
   "outputs": [],
   "source": [
    "Ntrain = int(N * 0.75)\n",
    "from sklearn.utils import shuffle\n",
    "titles, ncategories = shuffle(titles, ncategories, random_state=0)"
   ]
  },
  {
   "cell_type": "code",
   "execution_count": 13,
   "metadata": {
    "_cell_guid": "c9f86559-bbcd-8176-e883-a26a70593402"
   },
   "outputs": [
    {
     "name": "stdout",
     "output_type": "stream",
     "text": [
      "X_train.shape (975,)\n",
      "y_train.shape (975,)\n",
      "X_test.shape (325,)\n",
      "y_test.shape (325,)\n"
     ]
    }
   ],
   "source": [
    "X_train = titles[:Ntrain]\n",
    "print('X_train.shape',X_train.shape)\n",
    "y_train = ncategories[:Ntrain]\n",
    "print('y_train.shape',y_train.shape)\n",
    "X_test = titles[Ntrain:]\n",
    "print('X_test.shape',X_test.shape)\n",
    "y_test = ncategories[Ntrain:]\n",
    "print('y_test.shape',y_test.shape)"
   ]
  },
  {
   "cell_type": "markdown",
   "metadata": {
    "_cell_guid": "14dc4ad5-189d-6035-87ab-2030d6da4494"
   },
   "source": [
    "10. **Create a pipeline**\n",
    "\n",
    "Then i want to create a pipeline to convert every word into vector using countvectorizer then compute tf-idf \n",
    "using tf-idf transformizer then predict using multinomial NB and Linear SVM"
   ]
  },
  {
   "cell_type": "code",
   "execution_count": 14,
   "metadata": {
    "_cell_guid": "68c1b7c8-8436-be31-ed14-2aa98643b27e"
   },
   "outputs": [
    {
     "name": "stdout",
     "output_type": "stream",
     "text": [
      "Training 1...\n",
      "Training 2...\n"
     ]
    }
   ],
   "source": [
    "print('Training 1...')\n",
    "text_clf1 = Pipeline([('vect', CountVectorizer()),('tfidf', TfidfTransformer(use_idf=True)),('clf', MultinomialNB())])\n",
    "print('Training 2...')\n",
    "text_clf2 = Pipeline([('vect', CountVectorizer()),('tfidf', TfidfTransformer(use_idf=True)),('clf', SGDClassifier(loss='hinge', penalty='l2',alpha=1e-3, random_state=42, max_iter=5, tol=None))])"
   ]
  },
  {
   "cell_type": "markdown",
   "metadata": {
    "_cell_guid": "491c1713-5cdc-fde3-b4cf-d9568d365ea3"
   },
   "source": [
    "11. **Model Training**\n",
    "\n",
    "Then i want to train both model using training data "
   ]
  },
  {
   "cell_type": "code",
   "execution_count": 15,
   "metadata": {
    "_cell_guid": "6f92e9f3-c569-db9c-70d1-0b8b20a46c9d"
   },
   "outputs": [],
   "source": [
    "text_clf1 = text_clf1.fit(X_train, y_train)\n",
    "text_clf2 = text_clf2.fit(X_train, y_train)"
   ]
  },
  {
   "cell_type": "markdown",
   "metadata": {
    "_cell_guid": "b972e0be-7412-0196-2a08-6c75b2cd11a0"
   },
   "source": [
    "12. **Prediction Process**\n",
    "\n",
    "After that i want to predict the data test using the model that we already trained"
   ]
  },
  {
   "cell_type": "code",
   "execution_count": 16,
   "metadata": {
    "_cell_guid": "ce671b4e-2567-82ad-7a7a-12802ed19316"
   },
   "outputs": [
    {
     "name": "stdout",
     "output_type": "stream",
     "text": [
      "Predicting...\n"
     ]
    }
   ],
   "source": [
    "print('Predicting...')\n",
    "predicted1 = text_clf1.predict(X_test)\n",
    "predicted2 = text_clf2.predict(X_test)"
   ]
  },
  {
   "cell_type": "markdown",
   "metadata": {
    "_cell_guid": "6da08f99-4973-2d83-46c2-d1b4ade75833"
   },
   "source": [
    "13. **Compute the accuration of the Multinomial-NB and Linear-SVM**"
   ]
  },
  {
   "cell_type": "code",
   "execution_count": 17,
   "metadata": {
    "_cell_guid": "6d01e142-96d8-5336-9375-454ef1c644dc"
   },
   "outputs": [
    {
     "name": "stdout",
     "output_type": "stream",
     "text": [
      "Accuracy_score of Multinomial NB: 88.0 %\n",
      "Accuracy_score of Linear SVM    : 90.46 %\n"
     ]
    }
   ],
   "source": [
    "print('Accuracy_score of Multinomial NB: '+str(round(metrics.accuracy_score(y_test,predicted1)*100,2))+' %')\n",
    "print('Accuracy_score of Linear SVM    : '+str(round(metrics.accuracy_score(y_test,predicted2)*100,2))+' %')"
   ]
  },
  {
   "cell_type": "markdown",
   "metadata": {
    "_cell_guid": "258d3fd4-83d9-0b1f-91bf-5f4f604126e7"
   },
   "source": [
    "14. **Show Classification Report**\n",
    "\n",
    "A Classification report is used to measure the quality of predictions from a classification algorithm. How many predictions are True and how many are False. More specifically, True Positives, False Positives, True negatives and False Negatives"
   ]
  },
  {
   "cell_type": "code",
   "execution_count": 18,
   "metadata": {
    "_cell_guid": "b78c3bf8-b1ea-a4ab-180a-e5df63d9509e"
   },
   "outputs": [
    {
     "name": "stdout",
     "output_type": "stream",
     "text": [
      "Accuracy of Multinomial NB\n",
      "              precision    recall  f1-score   support\n",
      "\n",
      "    Not Spam       0.93      0.81      0.87       158\n",
      "        Spam       0.84      0.95      0.89       167\n",
      "\n",
      "    accuracy                           0.88       325\n",
      "   macro avg       0.89      0.88      0.88       325\n",
      "weighted avg       0.89      0.88      0.88       325\n",
      "\n",
      "Accuracy of Linear SVM\n",
      "              precision    recall  f1-score   support\n",
      "\n",
      "    Not Spam       0.89      0.92      0.90       158\n",
      "        Spam       0.92      0.89      0.91       167\n",
      "\n",
      "    accuracy                           0.90       325\n",
      "   macro avg       0.90      0.90      0.90       325\n",
      "weighted avg       0.91      0.90      0.90       325\n",
      "\n"
     ]
    }
   ],
   "source": [
    "print('Accuracy of Multinomial NB')\n",
    "print(metrics.classification_report(y_test, predicted1, target_names=[\"Not Spam\",\"Spam\"]))\n",
    "print('Accuracy of Linear SVM')\n",
    "print(metrics.classification_report(y_test, predicted2, target_names=[\"Not Spam\",\"Spam\"]))"
   ]
  },
  {
   "cell_type": "markdown",
   "metadata": {},
   "source": [
    "15. **Confusion Matrix**\n",
    "\n",
    "A confusion matrix is a table that is often used to describe the performance of a classification model (or \"classifier\") on a set of test data for which the true values are known."
   ]
  },
  {
   "cell_type": "code",
   "execution_count": 19,
   "metadata": {},
   "outputs": [
    {
     "data": {
      "image/png": "[encoded data removed]",
      "text/plain": [
       "<Figure size 504x504 with 2 Axes>"
      ]
     },
     "metadata": {
      "needs_background": "light"
     },
     "output_type": "display_data"
    }
   ],
   "source": [
    "cm = confusion_matrix(y_test, predicted1) \n",
    "# Transform to df for easier plotting\n",
    "cm_df = pd.DataFrame(cm,index = ['Not Spam','Spam'], columns = ['Not Spam','Spam'])\n",
    "plt.figure(figsize=(7,7))\n",
    "sns.heatmap(cm_df, annot=True,annot_kws={\"size\": 10},fmt=\"d\")\n",
    "plt.title('Confusion matrix of Multinomial NB')\n",
    "plt.ylabel('True label')\n",
    "plt.xlabel('Predicted label')\n",
    "plt.show()"
   ]
  },
  {
   "cell_type": "code",
   "execution_count": 20,
   "metadata": {},
   "outputs": [
    {
     "data": {
      "image/png": "[encoded data removed]",
      "text/plain": [
       "<Figure size 504x504 with 2 Axes>"
      ]
     },
     "metadata": {
      "needs_background": "light"
     },
     "output_type": "display_data"
    }
   ],
   "source": [
    "cm = confusion_matrix(y_test, predicted2) \n",
    "# Transform to df for easier plotting\n",
    "cm_df = pd.DataFrame(cm,index = ['Not Spam','Spam'], columns = ['Not Spam','Spam'])\n",
    "plt.figure(figsize=(7,7))\n",
    "sns.heatmap(cm_df, annot=True,annot_kws={\"size\": 10},fmt=\"d\")\n",
    "plt.title('Confusion matrix of Linear SVM')\n",
    "plt.ylabel('True label')\n",
    "plt.xlabel('Predicted label')\n",
    "plt.show()"
   ]
  },
  {
   "cell_type": "markdown",
   "metadata": {},
   "source": [
    "# Why Multinomial NB perform worse than Linear SVM in this case ?"
   ]
  },
  {
   "cell_type": "markdown",
   "metadata": {},
   "source": [
    "If we see the accuracy, classification report, and confusion matrix. The Multinomial NB or Naives Bayes Classifier performs worse than linear SVM.\n",
    "\n",
    "There is no single answer about which is the best classification method for a given dataset. Different kinds of classifiers should be always considered for a comparative study over a given dataset. Given the properties of the dataset, you might have some clues that may give preference to some methods. However, it would still be advisable to experiment with all, if possible.\n",
    "\n",
    "Naive Bayes Classifier (NBC) and Support Vector Machine (SVM) have different options. They are both sensitive to parameter optimization (i.e. different parameter selection can significantly change their output). So, if you have a result showing that NBC is performing better than SVM. This is only true for the selected parameters. However, for another parameter selection, you might find SVM is performing better.\n",
    "\n",
    "In general, if the assumption of independence in NBC is satisfied by the variables of your dataset and the degree of class overlapping is small (i.e. potential linear decision boundary), NBC would be expected to achieve good. "
   ]
  }
 ],
 "metadata": {
  "_change_revision": 2,
  "_is_fork": false,
  "kernelspec": {
   "display_name": "Python 3",
   "language": "python",
   "name": "python3"
  },
  "language_info": {
   "codemirror_mode": {
    "name": "ipython",
    "version": 3
   },
   "file_extension": ".py",
   "mimetype": "text/x-python",
   "name": "python",
   "nbconvert_exporter": "python",
   "pygments_lexer": "ipython3",
   "version": "3.7.3"
  }
 },
 "nbformat": 4,
 "nbformat_minor": 1
}
