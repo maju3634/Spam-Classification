{
 "cells": [
  {
   "cell_type": "markdown",
   "metadata": {
    "_cell_guid": "b1076dfc-b9ad-4769-8c92-a6c4dae69d19",
    "_uuid": "8f2839f25d086af736a60e9eeb907d3b93b6e0e5"
   },
   "source": [
    "# Spam Classification using CNN\n",
    "\n",
    "In this notebook, I want to classify the comments into 2 categories. The goal is to identify whether a headline is belong to 1 of 2 classes:\n",
    "- Not-Spam or 0\n",
    "- Spam or 1\n",
    "\n",
    "To achieve the goal I will use CNN (Convolutional). A convolutional neural network is a feed-forward neural network that is generally used to analyze visual images by processing data with grid-like topology. It’s also known as a ConvNet. A convolutional neural network is used to detect and classify objects in an image or text.\n",
    "I will use SpacY to convert a words into a vector. \n",
    "Then this work based on the [work](https://arxiv.org/abs/1408.5882) of Yoon Kim published in 2014\n",
    "*  Each of the word vectors are of k dimension\n",
    "*  the sentence length is n, (n=length of longest sentence)\n",
    "*  n x k matrix represents a sentence\n",
    "\n",
    "*  Filters of size 3xk, 4xk and 5xk are used along with maxpooling to extract features from the sentences. \n",
    "\n",
    "![](https://i.imgur.com/oEMRsZY.png)\n",
    "Then the workflow to classificate our document is:\n",
    "\n",
    "**Data Import**:\n",
    "\n",
    "Data is the lifeblood of predictive analysis. We should know which data that we’ll use, where & how to gather them, then how to make it useful to solve our problem.\n",
    "\n",
    "**Data Cleaning**:\n",
    "\n",
    "Then we’ll use several mechanism like lowercasing the document, remove short form, and finally remove the punctuation and symbols.\n",
    "\n",
    "**Data Pre-Processing**:\n",
    "\n",
    "After that we using spacy to convert our document into a vector.\n",
    "\n",
    "**Data Modelling**:\n",
    "\n",
    "Finally we using 1 model to classificate our documents (CNN).\n",
    "\n",
    "5. **Result Discussion**\n",
    "\n",
    "Discuss the final result (You will see in the end of the notebook)\n",
    "\n",
    "**=========================================================================================================================**\n",
    "\n",
    "**=========================================================================================================================**"
   ]
  },
  {
   "cell_type": "markdown",
   "metadata": {
    "_uuid": "caec55e7e1780b0232ffb47ff64caed9eda915d1"
   },
   "source": [
    "## **Data Pre Processing**\n",
    "*  Cleaning the data\n",
    "*  Building word vectors"
   ]
  },
  {
   "cell_type": "code",
   "execution_count": 1,
   "metadata": {
    "_cell_guid": "79c7e3d0-c299-4dcb-8224-4455121ee9b0",
    "_uuid": "d629ff2d2480ee46fbb7e2d37f6b5fab8052498a"
   },
   "outputs": [],
   "source": [
    "import pandas as pd\n",
    "import numpy as np\n",
    "import matplotlib.pyplot as plt\n",
    "import spacy\n",
    "import torch\n",
    "import torch.nn as nn\n",
    "from torch.utils.data import DataLoader, Dataset\n",
    "from torch.utils.data import random_split\n",
    "import torch.nn.functional as F"
   ]
  },
  {
   "cell_type": "code",
   "execution_count": 2,
   "metadata": {
    "_uuid": "847ec12886b0a3bbe7edc2ed9644fe72a91e8d36"
   },
   "outputs": [],
   "source": [
    "comments = pd.read_excel(\"Comment Spam.xls\")"
   ]
  },
  {
   "cell_type": "markdown",
   "metadata": {
    "_uuid": "a7c0c16f029480aedfe950f2069b722f3e5c973b"
   },
   "source": [
    "#### Let us check the data\n",
    "\n",
    "Check the first five of the dataframe and count the numbers of data on the class"
   ]
  },
  {
   "cell_type": "code",
   "execution_count": 3,
   "metadata": {
    "_uuid": "6594b5897b28f5836fd5690e808526e9190a3bf2"
   },
   "outputs": [
    {
     "data": {
      "text/html": [
       "<div>\n",
       "<style scoped>\n",
       "    .dataframe tbody tr th:only-of-type {\n",
       "        vertical-align: middle;\n",
       "    }\n",
       "\n",
       "    .dataframe tbody tr th {\n",
       "        vertical-align: top;\n",
       "    }\n",
       "\n",
       "    .dataframe thead th {\n",
       "        text-align: right;\n",
       "    }\n",
       "</style>\n",
       "<table border=\"1\" class=\"dataframe\">\n",
       "  <thead>\n",
       "    <tr style=\"text-align: right;\">\n",
       "      <th></th>\n",
       "      <th>No</th>\n",
       "      <th>Comment</th>\n",
       "      <th>Class</th>\n",
       "    </tr>\n",
       "  </thead>\n",
       "  <tbody>\n",
       "    <tr>\n",
       "      <th>0</th>\n",
       "      <td>1</td>\n",
       "      <td>this song is racist</td>\n",
       "      <td>0</td>\n",
       "    </tr>\n",
       "    <tr>\n",
       "      <th>1</th>\n",
       "      <td>2</td>\n",
       "      <td>and how many subscribers compared to her over ...</td>\n",
       "      <td>1</td>\n",
       "    </tr>\n",
       "    <tr>\n",
       "      <th>2</th>\n",
       "      <td>3</td>\n",
       "      <td>HI! CHECK OUT OUR AWESOME COVERS! AND SAY WHAT...</td>\n",
       "      <td>1</td>\n",
       "    </tr>\n",
       "    <tr>\n",
       "      <th>3</th>\n",
       "      <td>4</td>\n",
       "      <td>well done shakira</td>\n",
       "      <td>0</td>\n",
       "    </tr>\n",
       "    <tr>\n",
       "      <th>4</th>\n",
       "      <td>5</td>\n",
       "      <td>:D subscribe to me for daily vines</td>\n",
       "      <td>1</td>\n",
       "    </tr>\n",
       "  </tbody>\n",
       "</table>\n",
       "</div>"
      ],
      "text/plain": [
       "   No                                            Comment  Class\n",
       "0   1                                this song is racist      0\n",
       "1   2  and how many subscribers compared to her over ...      1\n",
       "2   3  HI! CHECK OUT OUR AWESOME COVERS! AND SAY WHAT...      1\n",
       "3   4                                  well done shakira      0\n",
       "4   5                 :D subscribe to me for daily vines      1"
      ]
     },
     "execution_count": 3,
     "metadata": {},
     "output_type": "execute_result"
    }
   ],
   "source": [
    "comments.head()"
   ]
  },
  {
   "cell_type": "code",
   "execution_count": 4,
   "metadata": {
    "_uuid": "39deb3616673f4fd9ece66613f83130c80310ca3"
   },
   "outputs": [
    {
     "data": {
      "text/plain": [
       "1    669\n",
       "0    631\n",
       "Name: Class, dtype: int64"
      ]
     },
     "execution_count": 4,
     "metadata": {},
     "output_type": "execute_result"
    }
   ],
   "source": [
    "comments.Class.value_counts()"
   ]
  },
  {
   "cell_type": "markdown",
   "metadata": {
    "_uuid": "15d18321c816f4dae82ef83272bfea53d2569e6d"
   },
   "source": [
    "#### The comments classification are as follows:\n",
    "* **Not Spam** (label==0) If the comment is not a spam.\n",
    "* **Spam** (label==1) If the comment is a spam. "
   ]
  },
  {
   "cell_type": "markdown",
   "metadata": {
    "_uuid": "39a768b75c4b70cc71be47968831217a82759e7f"
   },
   "source": [
    "**Pre-processing the comments**\n",
    "\n",
    "Remove the symbol, the punctuation, link website, and the numbers, and replace the upper case with lower case"
   ]
  },
  {
   "cell_type": "code",
   "execution_count": 5,
   "metadata": {
    "_uuid": "bfb5962baab7fd0deefcb8943849872d92418fd9"
   },
   "outputs": [],
   "source": [
    "def normalise_text (text):\n",
    "    text = text.str.lower()\n",
    "    text = text.str.replace(r\"\\#\",\"\")\n",
    "    text = text.str.replace(r\"http\\S+\",\"URL\")\n",
    "    text = text.str.replace(r\"@\",\" \")\n",
    "    text = text.str.replace(r\"[^A-Za-z0-9()!?\\'\\`\\\"]\", \" \")\n",
    "    text = text.str.replace(\"\\s{2,}\", \" \")\n",
    "    return text"
   ]
  },
  {
   "cell_type": "code",
   "execution_count": 6,
   "metadata": {
    "_uuid": "a05812772c695c58461339f1f541690219957f28"
   },
   "outputs": [],
   "source": [
    "comments[\"Comment\"]=normalise_text(comments[\"Comment\"])"
   ]
  },
  {
   "cell_type": "markdown",
   "metadata": {
    "_uuid": "3eb51c856ca81fc6db51a7de4a8c34a5243d23d7"
   },
   "source": [
    "Let us look at the cleaned text once"
   ]
  },
  {
   "cell_type": "code",
   "execution_count": 7,
   "metadata": {
    "_uuid": "06df411fc085383179e72f8d5236492be57c6715"
   },
   "outputs": [
    {
     "data": {
      "text/html": [
       "<div>\n",
       "<style scoped>\n",
       "    .dataframe tbody tr th:only-of-type {\n",
       "        vertical-align: middle;\n",
       "    }\n",
       "\n",
       "    .dataframe tbody tr th {\n",
       "        vertical-align: top;\n",
       "    }\n",
       "\n",
       "    .dataframe thead th {\n",
       "        text-align: right;\n",
       "    }\n",
       "</style>\n",
       "<table border=\"1\" class=\"dataframe\">\n",
       "  <thead>\n",
       "    <tr style=\"text-align: right;\">\n",
       "      <th></th>\n",
       "      <th>No</th>\n",
       "      <th>Comment</th>\n",
       "      <th>Class</th>\n",
       "    </tr>\n",
       "  </thead>\n",
       "  <tbody>\n",
       "    <tr>\n",
       "      <th>0</th>\n",
       "      <td>1</td>\n",
       "      <td>this song is racist</td>\n",
       "      <td>0</td>\n",
       "    </tr>\n",
       "    <tr>\n",
       "      <th>1</th>\n",
       "      <td>2</td>\n",
       "      <td>and how many subscribers compared to her over ...</td>\n",
       "      <td>1</td>\n",
       "    </tr>\n",
       "    <tr>\n",
       "      <th>2</th>\n",
       "      <td>3</td>\n",
       "      <td>hi! check out our awesome covers! and say what...</td>\n",
       "      <td>1</td>\n",
       "    </tr>\n",
       "    <tr>\n",
       "      <th>3</th>\n",
       "      <td>4</td>\n",
       "      <td>well done shakira</td>\n",
       "      <td>0</td>\n",
       "    </tr>\n",
       "    <tr>\n",
       "      <th>4</th>\n",
       "      <td>5</td>\n",
       "      <td>d subscribe to me for daily vines</td>\n",
       "      <td>1</td>\n",
       "    </tr>\n",
       "  </tbody>\n",
       "</table>\n",
       "</div>"
      ],
      "text/plain": [
       "   No                                            Comment  Class\n",
       "0   1                                this song is racist      0\n",
       "1   2  and how many subscribers compared to her over ...      1\n",
       "2   3  hi! check out our awesome covers! and say what...      1\n",
       "3   4                                  well done shakira      0\n",
       "4   5                  d subscribe to me for daily vines      1"
      ]
     },
     "execution_count": 7,
     "metadata": {},
     "output_type": "execute_result"
    }
   ],
   "source": [
    "comments.head()"
   ]
  },
  {
   "cell_type": "markdown",
   "metadata": {
    "_uuid": "6cdb6fbd02954363abfdc45b02fe36323d551cd5"
   },
   "source": [
    "### Embedding using spaCy "
   ]
  },
  {
   "cell_type": "code",
   "execution_count": 8,
   "metadata": {
    "_uuid": "e95f2625b8ef75e92c46ea9d4efecd7fbd841841"
   },
   "outputs": [],
   "source": [
    "nlp = spacy.load(\"en_core_web_sm\")"
   ]
  },
  {
   "cell_type": "code",
   "execution_count": 9,
   "metadata": {
    "_uuid": "137eaa9eadbf47da7362794a2d0152a4855db04b"
   },
   "outputs": [],
   "source": [
    "#apply the spaCy nlp pipeline\n",
    "doc = comments[\"Comment\"].apply(nlp) \n",
    "\n",
    "#you could extract a lot more information once you pass the data through the nlp pipeline, such as POS tagging, recognising important entities, etc. "
   ]
  },
  {
   "cell_type": "markdown",
   "metadata": {
    "_uuid": "b34044aab8c262a4ed79e06dc3727b32c6986141"
   },
   "source": [
    " ### Form 3d numpy array for storing word vectors, to be used for classifying\n",
    " \n",
    " * Each sentence is a matrix and these would be used as Tensors by the CNN\n",
    " \n",
    " * The dimensions of each matrix would be: **length of longest sentence** x **length of vector**\n",
    " \n",
    " * The dimension of the tensor :\n",
    "     * **number of comments** x **length of longest sentence** x **length of vector**"
   ]
  },
  {
   "cell_type": "code",
   "execution_count": 10,
   "metadata": {
    "_uuid": "3bfd291fd8702211a10df94b28823323d53b6d5a"
   },
   "outputs": [
    {
     "name": "stdout",
     "output_type": "stream",
     "text": [
      "Length of longest sentence:  219\n",
      "Length of each word vector:  96\n"
     ]
    }
   ],
   "source": [
    "max_sent_len=max(len(doc[i]) for i in range(0,len(doc)))\n",
    "print(\"Length of longest sentence: \", max_sent_len)\n",
    "#point to be noted this is the number of tokens in the sentence, NOT words\n",
    "\n",
    "vector_len=len(doc[0][0].vector)\n",
    "print(\"Length of each word vector: \", vector_len)"
   ]
  },
  {
   "cell_type": "code",
   "execution_count": 11,
   "metadata": {
    "_uuid": "0cc3fa6ab55e223559dc8976294df2c9e2f75dca"
   },
   "outputs": [],
   "source": [
    "#creating the 3D array\n",
    "comments_matrix=np.zeros((len(doc),max_sent_len,vector_len))"
   ]
  },
  {
   "cell_type": "code",
   "execution_count": 12,
   "metadata": {
    "_uuid": "43fdc67e437da5f6b953fe873bb4ee6cea520803"
   },
   "outputs": [],
   "source": [
    "for i in range(0,len(doc)):\n",
    "    for j in range(0,len(doc[i])):\n",
    "        comments_matrix[i][j]=doc[i][j].vector"
   ]
  },
  {
   "cell_type": "markdown",
   "metadata": {
    "_uuid": "7f7ed876cdc972f12763b5cf5025d18c5c1bba49"
   },
   "source": [
    "### Create labels"
   ]
  },
  {
   "cell_type": "code",
   "execution_count": 13,
   "metadata": {
    "_uuid": "355ff1a4fd5116329c4e4a1fca2327d1cf1de56c",
    "scrolled": true
   },
   "outputs": [
    {
     "name": "stdout",
     "output_type": "stream",
     "text": [
      "The number of labels: 1300\n",
      "The number of labels: 1300\n"
     ]
    }
   ],
   "source": [
    "list_labels = np.array(comments[\"Class\"])\n",
    "print(\"The number of labels: \"+str(list_labels.shape[0]))\n",
    "print(\"The number of labels: \"+str(comments_matrix.shape[0]))"
   ]
  },
  {
   "cell_type": "markdown",
   "metadata": {
    "_uuid": "35bf578c83baa5a9f6487e376060513d9227bd80"
   },
   "source": [
    "## **CNN in Pytorch**"
   ]
  },
  {
   "cell_type": "code",
   "execution_count": 14,
   "metadata": {
    "_uuid": "445a3305a31557ea1c8a535585077754ececb258"
   },
   "outputs": [],
   "source": [
    "#if you need to convert numpy ndarray to tensor explicitely\n",
    "#comments_matrix = torch.from_numpy(comments_matrix)"
   ]
  },
  {
   "cell_type": "code",
   "execution_count": 15,
   "metadata": {
    "_uuid": "8185c2917cbe47d6c7a82f8ebf9cf42a64905273"
   },
   "outputs": [
    {
     "name": "stdout",
     "output_type": "stream",
     "text": [
      "CUDA IS AVAILABLE\n"
     ]
    }
   ],
   "source": [
    "#for GPU - CUDA\n",
    "\n",
    "device = torch.device(\"cuda:0\" if torch.cuda.is_available() else \"cpu\")\n",
    "\n",
    "# Assuming that we are on a CUDA machine, this should print a CUDA device:\n",
    "\n",
    "if device == \"cpu\":\n",
    "    print(\"CUDA IS NOT AVAILABLE\")\n",
    "else:\n",
    "    print(\"CUDA IS AVAILABLE\")"
   ]
  },
  {
   "cell_type": "markdown",
   "metadata": {
    "_uuid": "8bbcacb939f52c4f834874c0cbd16a15d9818fce"
   },
   "source": [
    "**Train test split**\n",
    "\n",
    "Split the data into 2 parts test: 25 % and training: 75 %"
   ]
  },
  {
   "cell_type": "code",
   "execution_count": 16,
   "metadata": {
    "_uuid": "8bad7c21ad03414cba768240890e53a204d67f0a"
   },
   "outputs": [
    {
     "name": "stdout",
     "output_type": "stream",
     "text": [
      "[325, 975]\n"
     ]
    }
   ],
   "source": [
    "len_for_split=[int(comments_matrix.shape[0]/4),int(comments_matrix.shape[0]*(3/4))]\n",
    "print(len_for_split)"
   ]
  },
  {
   "cell_type": "code",
   "execution_count": 17,
   "metadata": {
    "_uuid": "c87bea754eceb913baa08a0521aaacb906db05b2"
   },
   "outputs": [],
   "source": [
    "test, train=random_split(comments_matrix,len_for_split)"
   ]
  },
  {
   "cell_type": "code",
   "execution_count": 18,
   "metadata": {
    "_uuid": "783ebd75c076e4c41437483b9618606b0748c1bf"
   },
   "outputs": [
    {
     "data": {
      "text/plain": [
       "(1300, 219, 96)"
      ]
     },
     "execution_count": 18,
     "metadata": {},
     "output_type": "execute_result"
    }
   ],
   "source": [
    "test.dataset.shape"
   ]
  },
  {
   "cell_type": "markdown",
   "metadata": {
    "_uuid": "651e4c67928760a49098a5d536b3ecab6ae1314d"
   },
   "source": [
    "### Declare Hyperparameters"
   ]
  },
  {
   "cell_type": "code",
   "execution_count": 19,
   "metadata": {
    "_uuid": "0057c657aa1fe65fca683ac97df2cede9a4f7325"
   },
   "outputs": [],
   "source": [
    "# Hyperparameters\n",
    "num_epochs = 25\n",
    "learning_rate = 0.00075\n",
    "batch_size=100"
   ]
  },
  {
   "cell_type": "markdown",
   "metadata": {
    "_uuid": "57722b4e99bb779c5ad2a2ff4ba9f137a862cffc"
   },
   "source": [
    "### Load Data\n",
    "\n",
    "The dataset is loaded in batches with the Dataset class and Dataloader Module from torch.utils.data"
   ]
  },
  {
   "cell_type": "code",
   "execution_count": 20,
   "metadata": {
    "_uuid": "5b9cb3c6733225e159d990aa4cd72359283bfb43"
   },
   "outputs": [],
   "source": [
    "# to transform the data and labels\n",
    "class MyDataset(Dataset):\n",
    "    def __init__(self, data, target, transform=None):\n",
    "        self.data = torch.from_numpy(data).float()\n",
    "        self.target = torch.from_numpy(target).long()\n",
    "        self.transform = transform\n",
    "        \n",
    "    def __getitem__(self, index):\n",
    "        x = self.data[index]\n",
    "        y = self.target[index]\n",
    "        \n",
    "        if self.transform:\n",
    "            x = self.transform(x)\n",
    "        \n",
    "        return x, y\n",
    "    \n",
    "    def __len__(self):\n",
    "        return len(self.data)"
   ]
  },
  {
   "cell_type": "code",
   "execution_count": 21,
   "metadata": {
    "_uuid": "56363b83e774e510114012e961496eb1dd2eeb2f"
   },
   "outputs": [],
   "source": [
    "#load labels #truncating total data to keep batch size 100\n",
    "labels_train=list_labels[train.indices[0:8100]]\n",
    "labels_test=list_labels[test.indices[0:2700]]\n",
    "\n",
    "#load train data\n",
    "training_data=train.dataset[train.indices[0:8100]].astype(float)\n",
    "#training_data=training_data.unsqueeze(1)\n",
    "\n",
    "#load test data\n",
    "test_data=test.dataset[test.indices[0:2700]].astype(float)\n",
    "#test_data=test_data.unsqueeze(1)\n",
    "\n",
    "dataset_train = MyDataset(training_data, labels_train)\n",
    "dataset_test = MyDataset(test_data, labels_test)\n",
    "\n",
    "\n",
    "#loading data batchwise\n",
    "train_loader = DataLoader(dataset=dataset_train, batch_size=batch_size, shuffle=True)\n",
    "test_loader = DataLoader(dataset=dataset_test, batch_size=batch_size, shuffle=False)\n"
   ]
  },
  {
   "cell_type": "markdown",
   "metadata": {
    "_uuid": "75fdbeccfc961d0b3f93bedab1bb1b86a80ac2a6"
   },
   "source": [
    "### Setting up the CNN model"
   ]
  },
  {
   "cell_type": "code",
   "execution_count": 22,
   "metadata": {
    "_uuid": "0f13fb2fda8769c0bf6b034e5fedf7beb3525545"
   },
   "outputs": [],
   "source": [
    "class ConvNet(nn.Module):\n",
    "    def __init__(self):\n",
    "        super(ConvNet, self).__init__()\n",
    "        self.layer13 = nn.Sequential(\n",
    "            nn.Conv2d(1, 100, kernel_size=(3,vector_len), stride=1,padding=0), \n",
    "            nn.ReLU(),\n",
    "            nn.MaxPool2d(kernel_size=(70,1), stride=1))\n",
    "        self.layer14 = nn.Sequential(\n",
    "            nn.Conv2d(1, 100, kernel_size=(4,vector_len), stride=1,padding=0), \n",
    "            nn.ReLU(),\n",
    "            nn.MaxPool2d(kernel_size=(69,1), stride=1))\n",
    "        self.layer15 = nn.Sequential(\n",
    "            nn.Conv2d(1, 100, kernel_size=(5,vector_len), stride=1,padding=0), \n",
    "            nn.ReLU(),\n",
    "            nn.MaxPool2d(kernel_size=(68,1), stride=1))\n",
    "        #self.layer2 = nn.Sequential(\n",
    "            #nn.Conv2d(15, 30, kernel_size=5, stride=1, padding=0),\n",
    "            #nn.ReLU(),\n",
    "            #nn.MaxPool2d(kernel_size=2, stride=2))\n",
    "        self.drop_out = nn.Dropout()\n",
    "        #concat operation\n",
    "        self.fc1 = nn.Linear(44400, 30)\n",
    "        self.fc2 = nn.Linear(30, 2)\n",
    "        #self.fc3 = nn.Linear(100,3)\n",
    "        \n",
    "    def forward(self, x):\n",
    "        x3 = self.layer13(x)\n",
    "        x4 = self.layer14(x)\n",
    "        x5 = self.layer15(x)\n",
    "        x3 = x3.reshape(x3.size(0), -1)\n",
    "        x4 = x4.reshape(x4.size(0), -1)\n",
    "        x5 = x5.reshape(x5.size(0), -1)\n",
    "        x3 = self.drop_out(x3)\n",
    "        x4 = self.drop_out(x4)\n",
    "        x5 = self.drop_out(x5)\n",
    "        out = torch.cat((x3,x4,x5),1)\n",
    "        out = self.fc1(out)\n",
    "        out = self.fc2(out)\n",
    "        return(out)"
   ]
  },
  {
   "cell_type": "code",
   "execution_count": 23,
   "metadata": {
    "_uuid": "03e87004b8803019eb1ab08ac8435b01162e69c4"
   },
   "outputs": [],
   "source": [
    "#creating instance of our ConvNet class\n",
    "model = ConvNet()\n",
    "model.to(device) #CNN to GPU\n",
    "\n",
    "\n",
    "# Loss and optimizer\n",
    "criterion = nn.CrossEntropyLoss()\n",
    "#CrossEntropyLoss function combines both a SoftMax activation and a cross entropy loss function in the same function\n",
    "\n",
    "optimizer = torch.optim.Adam(model.parameters(), lr=learning_rate)"
   ]
  },
  {
   "cell_type": "markdown",
   "metadata": {
    "_uuid": "07072e1e57251e9133e6762f642b42d9f53948d4"
   },
   "source": [
    "### Training the model"
   ]
  },
  {
   "cell_type": "code",
   "execution_count": 24,
   "metadata": {
    "_kg_hide-input": false,
    "_kg_hide-output": true,
    "_uuid": "6e53876c60e0c0d6eae98f35c45417c507c0602c"
   },
   "outputs": [
    {
     "name": "stdout",
     "output_type": "stream",
     "text": [
      "Epoch [1/25], Loss: 0.0394, Training Accuracy: 56.00%\n",
      "Test Accuracy of the model: 59.07692307692308 %\n",
      "\n",
      "Epoch [2/25], Loss: 0.0137, Training Accuracy: 62.97%\n",
      "Test Accuracy of the model: 64.0 %\n",
      "\n",
      "Epoch [3/25], Loss: 0.0064, Training Accuracy: 75.69%\n",
      "Test Accuracy of the model: 75.6923076923077 %\n",
      "\n",
      "Epoch [4/25], Loss: 0.0048, Training Accuracy: 76.92%\n",
      "Test Accuracy of the model: 84.61538461538461 %\n",
      "\n",
      "Epoch [5/25], Loss: 0.0037, Training Accuracy: 86.77%\n",
      "Test Accuracy of the model: 86.46153846153845 %\n",
      "\n",
      "Epoch [6/25], Loss: 0.0029, Training Accuracy: 88.72%\n",
      "Test Accuracy of the model: 85.53846153846155 %\n",
      "\n",
      "Epoch [7/25], Loss: 0.0024, Training Accuracy: 92.21%\n",
      "Test Accuracy of the model: 87.38461538461539 %\n",
      "\n",
      "Epoch [8/25], Loss: 0.0020, Training Accuracy: 93.64%\n",
      "Test Accuracy of the model: 88.3076923076923 %\n",
      "\n",
      "Epoch [9/25], Loss: 0.0018, Training Accuracy: 93.95%\n",
      "Test Accuracy of the model: 88.92307692307693 %\n",
      "\n",
      "Epoch [10/25], Loss: 0.0014, Training Accuracy: 95.18%\n",
      "Test Accuracy of the model: 89.23076923076924 %\n",
      "\n",
      "Epoch [11/25], Loss: 0.0012, Training Accuracy: 95.79%\n",
      "Test Accuracy of the model: 90.46153846153845 %\n",
      "\n",
      "Epoch [12/25], Loss: 0.0010, Training Accuracy: 96.51%\n",
      "Test Accuracy of the model: 89.84615384615384 %\n",
      "\n",
      "Epoch [13/25], Loss: 0.0009, Training Accuracy: 97.44%\n",
      "Test Accuracy of the model: 91.38461538461539 %\n",
      "\n",
      "Epoch [14/25], Loss: 0.0008, Training Accuracy: 97.95%\n",
      "Test Accuracy of the model: 91.38461538461539 %\n",
      "\n",
      "Epoch [15/25], Loss: 0.0007, Training Accuracy: 97.95%\n",
      "Test Accuracy of the model: 91.07692307692308 %\n",
      "\n",
      "Epoch [16/25], Loss: 0.0006, Training Accuracy: 99.08%\n",
      "Test Accuracy of the model: 92.0 %\n",
      "\n",
      "Epoch [17/25], Loss: 0.0005, Training Accuracy: 98.87%\n",
      "Test Accuracy of the model: 90.15384615384615 %\n",
      "\n",
      "Epoch [18/25], Loss: 0.0004, Training Accuracy: 99.69%\n",
      "Test Accuracy of the model: 91.07692307692308 %\n",
      "\n",
      "Epoch [19/25], Loss: 0.0004, Training Accuracy: 99.38%\n",
      "Test Accuracy of the model: 89.53846153846153 %\n",
      "\n",
      "Epoch [20/25], Loss: 0.0003, Training Accuracy: 99.69%\n",
      "Test Accuracy of the model: 90.15384615384615 %\n",
      "\n",
      "Epoch [21/25], Loss: 0.0003, Training Accuracy: 99.69%\n",
      "Test Accuracy of the model: 90.76923076923077 %\n",
      "\n",
      "Epoch [22/25], Loss: 0.0002, Training Accuracy: 99.59%\n",
      "Test Accuracy of the model: 90.76923076923077 %\n",
      "\n",
      "Epoch [23/25], Loss: 0.0002, Training Accuracy: 99.69%\n",
      "Test Accuracy of the model: 90.15384615384615 %\n",
      "\n",
      "Epoch [24/25], Loss: 0.0002, Training Accuracy: 99.59%\n",
      "Test Accuracy of the model: 91.6923076923077 %\n",
      "\n",
      "Epoch [25/25], Loss: 0.0002, Training Accuracy: 99.90%\n",
      "Test Accuracy of the model: 91.38461538461539 %\n",
      "\n"
     ]
    }
   ],
   "source": [
    "# Train the model\n",
    "\n",
    "loss_list = []\n",
    "acc_list = []\n",
    "val_acc_list = []\n",
    "\n",
    "for epoch in range(num_epochs):\n",
    "    loss_list_element = 0\n",
    "    acc_list_element = 0\n",
    "    for i, (data_t, labels) in enumerate(train_loader):\n",
    "        data_t=data_t.unsqueeze(1)\n",
    "        data_t, labels = data_t.to(device), labels.to(device)\n",
    "        \n",
    "        # Run the forward pass\n",
    "        outputs = model(data_t)\n",
    "        loss = criterion(outputs, labels)\n",
    "        loss_list_element += loss.item()\n",
    "        #print(\"==========forward pass finished==========\")\n",
    "            \n",
    "        # Backprop and perform Adam optimisation\n",
    "        optimizer.zero_grad()\n",
    "        loss.backward()\n",
    "        optimizer.step()\n",
    "        #print(\"==========backward pass finished==========\")\n",
    "        \n",
    "        # Track the accuracy\n",
    "        total = labels.size(0)\n",
    "        _, predicted = torch.max(outputs.data, 1)\n",
    "        correct = (predicted == labels).sum().item()\n",
    "        acc_list_element += correct\n",
    "        \n",
    "        \n",
    "    loss_list_element = loss_list_element/np.shape(labels_train)[0]\n",
    "    acc_list_element = acc_list_element/np.shape(labels_train)[0]\n",
    "    print('Epoch [{}/{}], Loss: {:.4f}, Training Accuracy: {:.2f}%'\n",
    "          .format(epoch + 1, num_epochs, loss_list_element,acc_list_element * 100))  \n",
    "    loss_list.append(loss_list_element)\n",
    "    acc_list.append(acc_list_element)\n",
    "    \n",
    "    with torch.no_grad():\n",
    "        correct = 0\n",
    "        total = 0\n",
    "        for data_t, labels in test_loader:\n",
    "            data_t=data_t.unsqueeze(1)\n",
    "            data_t, labels = data_t.to(device), labels.to(device)\n",
    "\n",
    "            outputs = model(data_t)\n",
    "            _, predicted = torch.max(outputs.data, 1)\n",
    "            total += labels.size(0)\n",
    "            correct += (predicted == labels).sum().item()\n",
    "        val_acc_list.append(correct / total)\n",
    "\n",
    "    print('Test Accuracy of the model: {} %'.format((correct / total)*100))\n",
    "    print()"
   ]
  },
  {
   "cell_type": "markdown",
   "metadata": {
    "_uuid": "80a9ab55e010376688b61321839efdd82ffb3dc9"
   },
   "source": [
    "### Evaluating the model\n",
    "\n",
    "Compute the loss value and the accuracy of the model"
   ]
  },
  {
   "cell_type": "code",
   "execution_count": 25,
   "metadata": {
    "_uuid": "478ec1890e6542dfbbd05ad24b5fa2ec4e741456"
   },
   "outputs": [
    {
     "name": "stdout",
     "output_type": "stream",
     "text": [
      "Test Accuracy of the model: 91.07692307692308 %\n"
     ]
    }
   ],
   "source": [
    "## evaluating model\n",
    "\n",
    "# Test the model\n",
    "model.eval()\n",
    "predicted1 = []\n",
    "test1      = []\n",
    "with torch.no_grad():\n",
    "    correct = 0\n",
    "    total = 0\n",
    "    for data_t, labels in test_loader:\n",
    "        data_t=data_t.unsqueeze(1)\n",
    "        data_t, labels = data_t.to(device), labels.to(device)\n",
    "        \n",
    "        outputs = model(data_t)\n",
    "        _, predicted = torch.max(outputs.data, 1)\n",
    "        predicted1.append(predicted)\n",
    "        test1.append(labels)\n",
    "        total += labels.size(0)\n",
    "        correct += (predicted == labels).sum().item()\n",
    "\n",
    "    print('Test Accuracy of the model: {} %'.format((correct / total) * 100))"
   ]
  },
  {
   "cell_type": "markdown",
   "metadata": {
    "_uuid": "7b347c0182fc06e547c25ef2ee3a9f2c35c8e928"
   },
   "source": [
    "### Plot a graph to trace model performance"
   ]
  },
  {
   "cell_type": "code",
   "execution_count": 26,
   "metadata": {
    "_kg_hide-input": true,
    "_kg_hide-output": false,
    "_uuid": "b2fdc188dc5754b2b6898f8c8fb7d5af9d32afb1"
   },
   "outputs": [
    {
     "data": {
      "text/plain": [
       "<function matplotlib.pyplot.show(*args, **kw)>"
      ]
     },
     "execution_count": 26,
     "metadata": {},
     "output_type": "execute_result"
    },
    {
     "data": {
      "image/png": "[encoded data removed]",
      "text/plain": [
       "<Figure size 432x288 with 1 Axes>"
      ]
     },
     "metadata": {
      "needs_background": "light"
     },
     "output_type": "display_data"
    }
   ],
   "source": [
    "plt.xlabel(\"runs\")\n",
    "plt.ylabel(\"Normalised measure of loss/accuracy\")\n",
    "x_len=list(range(len(acc_list)))\n",
    "plt.axis([0, max(x_len), 0, 1])\n",
    "plt.title('Result of CNN')\n",
    "loss=np.asarray(loss_list)/max(loss_list)\n",
    "plt.plot(x_len, loss, 'r.',label=\"loss\")\n",
    "plt.plot(x_len, acc_list, 'b.', label=\"accuracy\")\n",
    "plt.plot(x_len, val_acc_list, 'g.', label=\"val_accuracy\")\n",
    "plt.legend(bbox_to_anchor=(1.05, 1), loc=2, borderaxespad=0.)\n",
    "plt.show"
   ]
  },
  {
   "cell_type": "markdown",
   "metadata": {},
   "source": [
    "**Result Discussion**\n",
    "\n",
    "Based on the above plots, CNN has achieved good test accuracy with high consistency. But we should aware about overfitting. There's a lot of causes of the overfitting. But the biggest problem on hyperparameter-tuning (learning rate, epoch, batch_size, and etc). But if we compare the performance with another model like Multinomial Naive Bayes or SVM, the chances of CNN reaching a better result is big but still the problem to get better accuracy is hyperparameter-tuning. In some paper, the researcher successfully proved that CNN is one of the best to classify the text. \n",
    "\n",
    "But if we want to get a good result with a faster time then we can use another method like Multinomial Naive Bayes or SVM\n",
    "\n",
    "**Improving Result**\n",
    "\n",
    "To achieve the best performances, we may:\n",
    "Fine Tune Hyper-Parameters : Hyper-parameters are the variables which are set before training and determine the network structure & how the network is trained. (eg : learning rate, batch size, number of epochs). Fine tuning can be done by : Manual Search, Grid Search, Random Search.\n",
    "Improve Text Pre-Processing : Better pre-processing of input data can be done as per the need of your dataset like removing some special symbols, numbers, stopwords and so on."
   ]
  }
 ],
 "metadata": {
  "kernelspec": {
   "display_name": "Python 3",
   "language": "python",
   "name": "python3"
  },
  "language_info": {
   "codemirror_mode": {
    "name": "ipython",
    "version": 3
   },
   "file_extension": ".py",
   "mimetype": "text/x-python",
   "name": "python",
   "nbconvert_exporter": "python",
   "pygments_lexer": "ipython3",
   "version": "3.7.3"
  }
 },
 "nbformat": 4,
 "nbformat_minor": 1
}
